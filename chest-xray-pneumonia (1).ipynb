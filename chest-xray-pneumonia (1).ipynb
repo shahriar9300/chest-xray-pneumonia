{
 "cells": [
  {
   "cell_type": "code",
   "execution_count": 1,
   "id": "a4e2ed81",
   "metadata": {
    "execution": {
     "iopub.execute_input": "2022-10-12T12:59:34.044534Z",
     "iopub.status.busy": "2022-10-12T12:59:34.044004Z",
     "iopub.status.idle": "2022-10-12T12:59:41.366224Z",
     "shell.execute_reply": "2022-10-12T12:59:41.365218Z"
    },
    "papermill": {
     "duration": 7.330501,
     "end_time": "2022-10-12T12:59:41.368886",
     "exception": false,
     "start_time": "2022-10-12T12:59:34.038385",
     "status": "completed"
    },
    "tags": []
   },
   "outputs": [],
   "source": [
    "import matplotlib.pyplot as plt\n",
    "import numpy as np\n",
    "from pathlib import Path\n",
    "import pandas as pd\n",
    "import seaborn as sns\n",
    "import os\n",
    "from mpl_toolkits.axes_grid1 import ImageGrid\n",
    "from PIL import Image\n",
    "\n",
    "\n",
    "from sklearn import *\n",
    "from sklearn.utils import shuffle\n",
    "import cv2\n",
    "from sklearn.metrics import classification_report,plot_confusion_matrix,confusion_matrix,ConfusionMatrixDisplay,roc_curve,RocCurveDisplay,precision_recall_curve,PrecisionRecallDisplay\n",
    "\n",
    "from keras.preprocessing.image import ImageDataGenerator\n",
    "from tensorflow.keras.preprocessing import image\n",
    "from tensorflow.keras.utils import to_categorical\n",
    "from tensorflow.keras.applications import EfficientNetB0\n",
    "from tensorflow.keras.layers import *\n",
    "import tensorflow as tf\n",
    "from tensorflow import *\n",
    "import albumentations as A\n",
    "from tensorflow.keras.callbacks import EarlyStopping, ReduceLROnPlateau, TensorBoard, ModelCheckpoint\n",
    "from tensorflow.keras.applications import VGG16,EfficientNetB0,EfficientNetB1\n",
    "os.environ['TF_CPP_MIN_LOG_LEVEL'] = '2' "
   ]
  },
  {
   "cell_type": "code",
   "execution_count": 2,
   "id": "d5e96835",
   "metadata": {
    "execution": {
     "iopub.execute_input": "2022-10-12T12:59:41.377017Z",
     "iopub.status.busy": "2022-10-12T12:59:41.375798Z",
     "iopub.status.idle": "2022-10-12T13:00:33.789148Z",
     "shell.execute_reply": "2022-10-12T13:00:33.786915Z"
    },
    "papermill": {
     "duration": 52.420363,
     "end_time": "2022-10-12T13:00:33.792335",
     "exception": false,
     "start_time": "2022-10-12T12:59:41.371972",
     "status": "completed"
    },
    "tags": []
   },
   "outputs": [
    {
     "name": "stdout",
     "output_type": "stream",
     "text": [
      "Collecting split_folders\r\n",
      "  Downloading split_folders-0.5.1-py3-none-any.whl (8.4 kB)\r\n",
      "Installing collected packages: split_folders\r\n",
      "Successfully installed split_folders-0.5.1\r\n",
      "\u001b[33mWARNING: Running pip as the 'root' user can result in broken permissions and conflicting behaviour with the system package manager. It is recommended to use a virtual environment instead: https://pip.pypa.io/warnings/venv\u001b[0m\u001b[33m\r\n",
      "\u001b[0m"
     ]
    },
    {
     "name": "stderr",
     "output_type": "stream",
     "text": [
      "Copying files: 5216 files [00:41, 126.45 files/s]\n"
     ]
    }
   ],
   "source": [
    "!pip install split_folders\n",
    "import splitfolders\n",
    "image_path=Path('../input/chest-xray-pneumonia/chest_xray/train/')\n",
    "splitfolders.ratio(image_path, output=\"output\", seed=101, ratio=(.8, .1, .1))"
   ]
  },
  {
   "cell_type": "code",
   "execution_count": 3,
   "id": "d3c47c95",
   "metadata": {
    "execution": {
     "iopub.execute_input": "2022-10-12T13:00:33.853512Z",
     "iopub.status.busy": "2022-10-12T13:00:33.853177Z",
     "iopub.status.idle": "2022-10-12T13:00:34.501241Z",
     "shell.execute_reply": "2022-10-12T13:00:34.500204Z"
    },
    "papermill": {
     "duration": 0.681996,
     "end_time": "2022-10-12T13:00:34.504391",
     "exception": false,
     "start_time": "2022-10-12T13:00:33.822395",
     "status": "completed"
    },
    "tags": []
   },
   "outputs": [
    {
     "name": "stdout",
     "output_type": "stream",
     "text": [
      "Found 4172 images belonging to 2 classes.\n",
      "Found 523 images belonging to 2 classes.\n",
      "Found 521 images belonging to 2 classes.\n"
     ]
    }
   ],
   "source": [
    "size_img=224\n",
    "def img_Generator(file_name,gen_type):\n",
    "    if gen_type=='yes':\n",
    "        generet_Data=ImageDataGenerator(rotation_range=40,\n",
    "                                    width_shift_range=0.2,\n",
    "                                    height_shift_range=0.2,\n",
    "                                    shear_range=0.2,\n",
    "                                    zoom_range=0.2,\n",
    "                                    horizontal_flip=True,\n",
    "                                    fill_mode='nearest')\n",
    "        gen_data=generet_Data.flow_from_directory(file_name,target_size=(size_img, size_img),\n",
    "                                                  batch_size=64,shuffle=True,\n",
    "                                                  class_mode='binary')\n",
    "                \n",
    "    else:\n",
    "        generet_Data1=ImageDataGenerator()\n",
    "        gen_data=generet_Data1.flow_from_directory(file_name,target_size=(size_img, size_img),\n",
    "                                                  batch_size=64,shuffle=False,\n",
    "                                                  class_mode='binary')\n",
    "    \n",
    "    return gen_data\n",
    "\n",
    "data_typ='yes'\n",
    "train_data=img_Generator('./output/train/',data_typ)\n",
    "data_typ='no'\n",
    "test_data=img_Generator('./output/test/',data_typ)\n",
    "data_typ='no'\n",
    "val_data=img_Generator('./output/val/',data_typ)"
   ]
  },
  {
   "cell_type": "code",
   "execution_count": 4,
   "id": "4030b62a",
   "metadata": {
    "execution": {
     "iopub.execute_input": "2022-10-12T13:00:34.553440Z",
     "iopub.status.busy": "2022-10-12T13:00:34.552610Z",
     "iopub.status.idle": "2022-10-12T13:28:39.856623Z",
     "shell.execute_reply": "2022-10-12T13:28:39.855424Z"
    },
    "papermill": {
     "duration": 1685.327071,
     "end_time": "2022-10-12T13:28:39.859479",
     "exception": false,
     "start_time": "2022-10-12T13:00:34.532408",
     "status": "completed"
    },
    "tags": []
   },
   "outputs": [
    {
     "name": "stdout",
     "output_type": "stream",
     "text": [
      "Downloading data from https://storage.googleapis.com/keras-applications/efficientnetb1_notop.h5\n",
      "27025408/27018416 [==============================] - 0s 0us/step\n",
      "27033600/27018416 [==============================] - 0s 0us/step\n"
     ]
    },
    {
     "name": "stderr",
     "output_type": "stream",
     "text": [
      "/opt/conda/lib/python3.7/site-packages/keras/engine/training.py:1972: UserWarning: `Model.fit_generator` is deprecated and will be removed in a future version. Please use `Model.fit`, which supports generators.\n",
      "  warnings.warn('`Model.fit_generator` is deprecated and '\n",
      "/opt/conda/lib/python3.7/site-packages/keras/utils/generic_utils.py:497: CustomMaskWarning: Custom mask layers require a config and must override get_config. When loading, the custom mask layer must be passed to the custom_objects argument.\n",
      "  category=CustomMaskWarning)\n"
     ]
    },
    {
     "name": "stdout",
     "output_type": "stream",
     "text": [
      "Epoch 1/15\n",
      "66/66 [==============================] - 131s 2s/step - loss: 0.1843 - accuracy: 0.9238 - val_loss: 0.1216 - val_accuracy: 0.9712\n",
      "\n",
      "Epoch 00001: val_accuracy improved from -inf to 0.97121, saving model to model.h5\n",
      "Epoch 2/15\n",
      "66/66 [==============================] - 108s 2s/step - loss: 0.1054 - accuracy: 0.9583 - val_loss: 0.1076 - val_accuracy: 0.9597\n",
      "\n",
      "Epoch 00002: val_accuracy did not improve from 0.97121\n",
      "Epoch 3/15\n",
      "66/66 [==============================] - 107s 2s/step - loss: 0.0669 - accuracy: 0.9758 - val_loss: 0.0351 - val_accuracy: 0.9885\n",
      "\n",
      "Epoch 00003: val_accuracy improved from 0.97121 to 0.98848, saving model to model.h5\n",
      "Epoch 4/15\n",
      "66/66 [==============================] - 107s 2s/step - loss: 0.0669 - accuracy: 0.9741 - val_loss: 0.0423 - val_accuracy: 0.9866\n",
      "\n",
      "Epoch 00004: val_accuracy did not improve from 0.98848\n",
      "Epoch 5/15\n",
      "66/66 [==============================] - 108s 2s/step - loss: 0.0655 - accuracy: 0.9760 - val_loss: 0.0476 - val_accuracy: 0.9846\n",
      "\n",
      "Epoch 00005: val_accuracy did not improve from 0.98848\n",
      "\n",
      "Epoch 00005: ReduceLROnPlateau reducing learning rate to 0.0003000000142492354.\n",
      "Epoch 6/15\n",
      "66/66 [==============================] - 107s 2s/step - loss: 0.0402 - accuracy: 0.9875 - val_loss: 0.1718 - val_accuracy: 0.9463\n",
      "\n",
      "Epoch 00006: val_accuracy did not improve from 0.98848\n",
      "Epoch 7/15\n",
      "66/66 [==============================] - 107s 2s/step - loss: 0.0280 - accuracy: 0.9899 - val_loss: 0.5161 - val_accuracy: 0.8733\n",
      "\n",
      "Epoch 00007: val_accuracy did not improve from 0.98848\n",
      "\n",
      "Epoch 00007: ReduceLROnPlateau reducing learning rate to 9.000000427477062e-05.\n",
      "Epoch 8/15\n",
      "66/66 [==============================] - 108s 2s/step - loss: 0.0258 - accuracy: 0.9911 - val_loss: 0.1983 - val_accuracy: 0.9482\n",
      "\n",
      "Epoch 00008: val_accuracy did not improve from 0.98848\n",
      "Epoch 9/15\n",
      "66/66 [==============================] - 108s 2s/step - loss: 0.0226 - accuracy: 0.9919 - val_loss: 0.2464 - val_accuracy: 0.9367\n",
      "\n",
      "Epoch 00009: val_accuracy did not improve from 0.98848\n",
      "\n",
      "Epoch 00009: ReduceLROnPlateau reducing learning rate to 2.700000040931627e-05.\n",
      "Epoch 10/15\n",
      "66/66 [==============================] - 108s 2s/step - loss: 0.0183 - accuracy: 0.9933 - val_loss: 0.1859 - val_accuracy: 0.9520\n",
      "\n",
      "Epoch 00010: val_accuracy did not improve from 0.98848\n",
      "Epoch 11/15\n",
      "66/66 [==============================] - 106s 2s/step - loss: 0.0175 - accuracy: 0.9938 - val_loss: 0.2283 - val_accuracy: 0.9405\n",
      "\n",
      "Epoch 00011: val_accuracy did not improve from 0.98848\n",
      "\n",
      "Epoch 00011: ReduceLROnPlateau reducing learning rate to 8.100000013655517e-06.\n",
      "Epoch 12/15\n",
      "66/66 [==============================] - 108s 2s/step - loss: 0.0191 - accuracy: 0.9935 - val_loss: 0.2275 - val_accuracy: 0.9405\n",
      "\n",
      "Epoch 00012: val_accuracy did not improve from 0.98848\n",
      "Epoch 13/15\n",
      "66/66 [==============================] - 112s 2s/step - loss: 0.0185 - accuracy: 0.9940 - val_loss: 0.2262 - val_accuracy: 0.9424\n",
      "\n",
      "Epoch 00013: val_accuracy did not improve from 0.98848\n",
      "\n",
      "Epoch 00013: ReduceLROnPlateau reducing learning rate to 2.429999949526973e-06.\n",
      "Epoch 14/15\n",
      "66/66 [==============================] - 108s 2s/step - loss: 0.0189 - accuracy: 0.9923 - val_loss: 0.2138 - val_accuracy: 0.9463\n",
      "\n",
      "Epoch 00014: val_accuracy did not improve from 0.98848\n",
      "Epoch 15/15\n",
      "66/66 [==============================] - 108s 2s/step - loss: 0.0196 - accuracy: 0.9938 - val_loss: 0.2099 - val_accuracy: 0.9463\n",
      "\n",
      "Epoch 00015: val_accuracy did not improve from 0.98848\n",
      "\n",
      "Epoch 00015: ReduceLROnPlateau reducing learning rate to 7.289999985005124e-07.\n"
     ]
    }
   ],
   "source": [
    "model = EfficientNetB1(\n",
    "      input_shape = (size_img, size_img,3),\n",
    "      include_top = False,\n",
    "      weights = 'imagenet'\n",
    "    )\n",
    "mdl=model.output\n",
    "mdl=GlobalAveragePooling2D()(mdl)\n",
    "mdl=Flatten()(mdl)\n",
    "mdl=Dropout(0.5)(mdl)\n",
    "mdl=Dense(1,activation = \"sigmoid\")(mdl)\n",
    "model=keras.Model(model.input,mdl)\n",
    "\n",
    "\n",
    "model.compile(loss = \"binary_crossentropy\", \n",
    "              optimizer = \"adam\", \n",
    "              metrics = \"accuracy\")\n",
    "\n",
    "tensorboard = TensorBoard(log_dir=\"logs\")\n",
    "\n",
    "early_stp=EarlyStopping(monitor='val_accuracy',\n",
    "                        mode='max', \n",
    "                        verbose=1, \n",
    "                        patience=20)\n",
    "checkpoint = ModelCheckpoint('model.h5', \n",
    "                             monitor='val_accuracy', \n",
    "                             mode='Auto',\n",
    "                             verbose=1,\n",
    "                             save_best_only=True )\n",
    "\n",
    "reduce_LR = ReduceLROnPlateau(monitor=\"val_accuracy\", \n",
    "                             factor = 0.3, \n",
    "                             patience = 2, \n",
    "                             min_delta=0.001, \n",
    "                             mode = \"auto\", \n",
    "                            verbose = 1)\n",
    "\n",
    "History = model.fit_generator(train_data,\n",
    "                              validation_data=val_data,\n",
    "                              epochs=15,verbose=1,\n",
    "                              callbacks=[checkpoint,early_stp,tensorboard,reduce_LR])"
   ]
  },
  {
   "cell_type": "markdown",
   "id": "015e1bfb",
   "metadata": {
    "papermill": {
     "duration": 0.070316,
     "end_time": "2022-10-12T13:28:40.000376",
     "exception": false,
     "start_time": "2022-10-12T13:28:39.930060",
     "status": "completed"
    },
    "tags": []
   },
   "source": [
    "<div style=\"color:white;\n",
    "           display:fill;\n",
    "           border-radius:5px;\n",
    "           background-color:#5642C5;\n",
    "           font-size:110%;\n",
    "           font-family:Verdana;\n",
    "           letter-spacing:0.5px\">\n",
    "<p style=\"padding: 10px;color:white;\">\n",
    "Finally plotting confusion matrix and others reports.\n",
    "</p>\n",
    "</div>"
   ]
  },
  {
   "cell_type": "code",
   "execution_count": 5,
   "id": "c8aaed4c",
   "metadata": {
    "execution": {
     "iopub.execute_input": "2022-10-12T13:28:40.143383Z",
     "iopub.status.busy": "2022-10-12T13:28:40.142654Z",
     "iopub.status.idle": "2022-10-12T13:28:47.866685Z",
     "shell.execute_reply": "2022-10-12T13:28:47.865759Z"
    },
    "papermill": {
     "duration": 7.798184,
     "end_time": "2022-10-12T13:28:47.869087",
     "exception": false,
     "start_time": "2022-10-12T13:28:40.070903",
     "status": "completed"
    },
    "tags": []
   },
   "outputs": [
    {
     "name": "stdout",
     "output_type": "stream",
     "text": [
      "9/9 [==============================] - 6s 566ms/step - loss: 0.2664 - accuracy: 0.9331\n"
     ]
    },
    {
     "data": {
      "text/plain": [
       "[0.26638391613960266, 0.933078408241272]"
      ]
     },
     "execution_count": 5,
     "metadata": {},
     "output_type": "execute_result"
    }
   ],
   "source": [
    "model.evaluate(test_data)"
   ]
  },
  {
   "cell_type": "code",
   "execution_count": 6,
   "id": "e434ccab",
   "metadata": {
    "execution": {
     "iopub.execute_input": "2022-10-12T13:28:48.013674Z",
     "iopub.status.busy": "2022-10-12T13:28:48.012692Z",
     "iopub.status.idle": "2022-10-12T13:28:48.043237Z",
     "shell.execute_reply": "2022-10-12T13:28:48.042188Z"
    },
    "papermill": {
     "duration": 0.104915,
     "end_time": "2022-10-12T13:28:48.045396",
     "exception": false,
     "start_time": "2022-10-12T13:28:47.940481",
     "status": "completed"
    },
    "tags": []
   },
   "outputs": [
    {
     "data": {
      "text/html": [
       "<div>\n",
       "<style scoped>\n",
       "    .dataframe tbody tr th:only-of-type {\n",
       "        vertical-align: middle;\n",
       "    }\n",
       "\n",
       "    .dataframe tbody tr th {\n",
       "        vertical-align: top;\n",
       "    }\n",
       "\n",
       "    .dataframe thead th {\n",
       "        text-align: right;\n",
       "    }\n",
       "</style>\n",
       "<table border=\"1\" class=\"dataframe\">\n",
       "  <thead>\n",
       "    <tr style=\"text-align: right;\">\n",
       "      <th></th>\n",
       "      <th>Train_loss</th>\n",
       "      <th>Train_accuracy</th>\n",
       "      <th>val_loss</th>\n",
       "      <th>val_accuracy</th>\n",
       "    </tr>\n",
       "  </thead>\n",
       "  <tbody>\n",
       "    <tr>\n",
       "      <th>0</th>\n",
       "      <td>0.184322</td>\n",
       "      <td>0.923778</td>\n",
       "      <td>0.121612</td>\n",
       "      <td>0.971209</td>\n",
       "    </tr>\n",
       "    <tr>\n",
       "      <th>1</th>\n",
       "      <td>0.105426</td>\n",
       "      <td>0.958293</td>\n",
       "      <td>0.107649</td>\n",
       "      <td>0.959693</td>\n",
       "    </tr>\n",
       "    <tr>\n",
       "      <th>2</th>\n",
       "      <td>0.066856</td>\n",
       "      <td>0.975791</td>\n",
       "      <td>0.035061</td>\n",
       "      <td>0.988484</td>\n",
       "    </tr>\n",
       "    <tr>\n",
       "      <th>3</th>\n",
       "      <td>0.066892</td>\n",
       "      <td>0.974113</td>\n",
       "      <td>0.042280</td>\n",
       "      <td>0.986564</td>\n",
       "    </tr>\n",
       "    <tr>\n",
       "      <th>4</th>\n",
       "      <td>0.065480</td>\n",
       "      <td>0.976031</td>\n",
       "      <td>0.047639</td>\n",
       "      <td>0.984645</td>\n",
       "    </tr>\n",
       "    <tr>\n",
       "      <th>5</th>\n",
       "      <td>0.040242</td>\n",
       "      <td>0.987536</td>\n",
       "      <td>0.171838</td>\n",
       "      <td>0.946257</td>\n",
       "    </tr>\n",
       "    <tr>\n",
       "      <th>6</th>\n",
       "      <td>0.027971</td>\n",
       "      <td>0.989933</td>\n",
       "      <td>0.516067</td>\n",
       "      <td>0.873321</td>\n",
       "    </tr>\n",
       "    <tr>\n",
       "      <th>7</th>\n",
       "      <td>0.025809</td>\n",
       "      <td>0.991131</td>\n",
       "      <td>0.198347</td>\n",
       "      <td>0.948177</td>\n",
       "    </tr>\n",
       "    <tr>\n",
       "      <th>8</th>\n",
       "      <td>0.022623</td>\n",
       "      <td>0.991850</td>\n",
       "      <td>0.246382</td>\n",
       "      <td>0.936660</td>\n",
       "    </tr>\n",
       "    <tr>\n",
       "      <th>9</th>\n",
       "      <td>0.018348</td>\n",
       "      <td>0.993289</td>\n",
       "      <td>0.185851</td>\n",
       "      <td>0.952015</td>\n",
       "    </tr>\n",
       "    <tr>\n",
       "      <th>10</th>\n",
       "      <td>0.017525</td>\n",
       "      <td>0.993768</td>\n",
       "      <td>0.228312</td>\n",
       "      <td>0.940499</td>\n",
       "    </tr>\n",
       "    <tr>\n",
       "      <th>11</th>\n",
       "      <td>0.019100</td>\n",
       "      <td>0.993528</td>\n",
       "      <td>0.227480</td>\n",
       "      <td>0.940499</td>\n",
       "    </tr>\n",
       "    <tr>\n",
       "      <th>12</th>\n",
       "      <td>0.018506</td>\n",
       "      <td>0.994008</td>\n",
       "      <td>0.226204</td>\n",
       "      <td>0.942418</td>\n",
       "    </tr>\n",
       "    <tr>\n",
       "      <th>13</th>\n",
       "      <td>0.018851</td>\n",
       "      <td>0.992330</td>\n",
       "      <td>0.213817</td>\n",
       "      <td>0.946257</td>\n",
       "    </tr>\n",
       "    <tr>\n",
       "      <th>14</th>\n",
       "      <td>0.019600</td>\n",
       "      <td>0.993768</td>\n",
       "      <td>0.209888</td>\n",
       "      <td>0.946257</td>\n",
       "    </tr>\n",
       "  </tbody>\n",
       "</table>\n",
       "</div>"
      ],
      "text/plain": [
       "    Train_loss  Train_accuracy  val_loss  val_accuracy\n",
       "0     0.184322        0.923778  0.121612      0.971209\n",
       "1     0.105426        0.958293  0.107649      0.959693\n",
       "2     0.066856        0.975791  0.035061      0.988484\n",
       "3     0.066892        0.974113  0.042280      0.986564\n",
       "4     0.065480        0.976031  0.047639      0.984645\n",
       "5     0.040242        0.987536  0.171838      0.946257\n",
       "6     0.027971        0.989933  0.516067      0.873321\n",
       "7     0.025809        0.991131  0.198347      0.948177\n",
       "8     0.022623        0.991850  0.246382      0.936660\n",
       "9     0.018348        0.993289  0.185851      0.952015\n",
       "10    0.017525        0.993768  0.228312      0.940499\n",
       "11    0.019100        0.993528  0.227480      0.940499\n",
       "12    0.018506        0.994008  0.226204      0.942418\n",
       "13    0.018851        0.992330  0.213817      0.946257\n",
       "14    0.019600        0.993768  0.209888      0.946257"
      ]
     },
     "execution_count": 6,
     "metadata": {},
     "output_type": "execute_result"
    }
   ],
   "source": [
    "data_sh=pd.DataFrame()\n",
    "data_sh['Train_loss']=History.history['loss']\n",
    "data_sh['Train_accuracy']=History.history['accuracy']\n",
    "data_sh['val_loss']=History.history['val_loss']\n",
    "data_sh['val_accuracy']=History.history['val_accuracy']\n",
    "data_sh"
   ]
  },
  {
   "cell_type": "code",
   "execution_count": 7,
   "id": "5b7b06fb",
   "metadata": {
    "execution": {
     "iopub.execute_input": "2022-10-12T13:28:48.190467Z",
     "iopub.status.busy": "2022-10-12T13:28:48.190119Z",
     "iopub.status.idle": "2022-10-12T13:28:57.977463Z",
     "shell.execute_reply": "2022-10-12T13:28:57.976495Z"
    },
    "papermill": {
     "duration": 9.8619,
     "end_time": "2022-10-12T13:28:57.979816",
     "exception": false,
     "start_time": "2022-10-12T13:28:48.117916",
     "status": "completed"
    },
    "tags": []
   },
   "outputs": [
    {
     "data": {
      "text/plain": [
       "<sklearn.metrics._plot.confusion_matrix.ConfusionMatrixDisplay at 0x7f1a5a08e290>"
      ]
     },
     "execution_count": 7,
     "metadata": {},
     "output_type": "execute_result"
    },
    {
     "data": {
      "image/png": "[encoded data removed]",
      "text/plain": [
       "<Figure size 576x576 with 2 Axes>"
      ]
     },
     "metadata": {
      "needs_background": "light"
     },
     "output_type": "display_data"
    }
   ],
   "source": [
    "y_val = test_data.classes\n",
    "y_pred = model.predict(test_data)\n",
    "y_pred1 = ((y_pred > 0.5)+0).ravel()\n",
    "cm = confusion_matrix(y_val,y_pred1)\n",
    "cmp = ConfusionMatrixDisplay(cm,display_labels = ['NORMAL', 'PNEUMONIA'])\n",
    "fig, ax = plt.subplots(figsize=(8,8))\n",
    "cmp.plot(ax=ax, xticks_rotation=90)"
   ]
  },
  {
   "cell_type": "code",
   "execution_count": 8,
   "id": "b7f98b52",
   "metadata": {
    "execution": {
     "iopub.execute_input": "2022-10-12T13:28:58.124475Z",
     "iopub.status.busy": "2022-10-12T13:28:58.123458Z",
     "iopub.status.idle": "2022-10-12T13:28:58.139477Z",
     "shell.execute_reply": "2022-10-12T13:28:58.138555Z"
    },
    "papermill": {
     "duration": 0.090344,
     "end_time": "2022-10-12T13:28:58.141505",
     "exception": false,
     "start_time": "2022-10-12T13:28:58.051161",
     "status": "completed"
    },
    "tags": []
   },
   "outputs": [
    {
     "name": "stdout",
     "output_type": "stream",
     "text": [
      "              precision    recall  f1-score   support\n",
      "\n",
      "           0       0.79      1.00      0.89       135\n",
      "           1       1.00      0.91      0.95       388\n",
      "\n",
      "    accuracy                           0.93       523\n",
      "   macro avg       0.90      0.95      0.92       523\n",
      "weighted avg       0.95      0.93      0.94       523\n",
      "\n"
     ]
    }
   ],
   "source": [
    "print(classification_report(y_val,y_pred1))"
   ]
  },
  {
   "cell_type": "code",
   "execution_count": 9,
   "id": "bf1ca71a",
   "metadata": {
    "execution": {
     "iopub.execute_input": "2022-10-12T13:28:58.288234Z",
     "iopub.status.busy": "2022-10-12T13:28:58.287251Z",
     "iopub.status.idle": "2022-10-12T13:28:58.690638Z",
     "shell.execute_reply": "2022-10-12T13:28:58.689670Z"
    },
    "papermill": {
     "duration": 0.478811,
     "end_time": "2022-10-12T13:28:58.692673",
     "exception": false,
     "start_time": "2022-10-12T13:28:58.213862",
     "status": "completed"
    },
    "tags": []
   },
   "outputs": [
    {
     "data": {
      "image/png": "[encoded data removed]",
      "text/plain": [
       "<Figure size 432x288 with 1 Axes>"
      ]
     },
     "metadata": {
      "needs_background": "light"
     },
     "output_type": "display_data"
    },
    {
     "data": {
      "image/png": "[encoded data removed]",
      "text/plain": [
       "<Figure size 432x288 with 1 Axes>"
      ]
     },
     "metadata": {
      "needs_background": "light"
     },
     "output_type": "display_data"
    }
   ],
   "source": [
    "# summarize history for accuracy\n",
    "plt.plot(History.history['accuracy'])\n",
    "plt.plot(History.history['val_accuracy'])\n",
    "plt.title('model accuracy')\n",
    "plt.ylabel('accuracy')\n",
    "plt.xlabel('epoch')\n",
    "plt.legend(['train', 'test'], loc='upper left')\n",
    "plt.show()\n",
    "# summarize history for loss\n",
    "plt.plot(History.history['loss'])\n",
    "plt.plot(History.history['val_loss'])\n",
    "plt.title('model loss')\n",
    "plt.ylabel('loss')\n",
    "plt.xlabel('epoch')\n",
    "plt.legend(['train', 'test'], loc='upper left')\n",
    "plt.show()"
   ]
  }
 ],
 "metadata": {
  "kernelspec": {
   "display_name": "Python 3",
   "language": "python",
   "name": "python3"
  },
  "language_info": {
   "codemirror_mode": {
    "name": "ipython",
    "version": 3
   },
   "file_extension": ".py",
   "mimetype": "text/x-python",
   "name": "python",
   "nbconvert_exporter": "python",
   "pygments_lexer": "ipython3",
   "version": "3.7.12"
  },
  "papermill": {
   "default_parameters": {},
   "duration": 1776.055202,
   "end_time": "2022-10-12T13:29:01.814332",
   "environment_variables": {},
   "exception": null,
   "input_path": "__notebook__.ipynb",
   "output_path": "__notebook__.ipynb",
   "parameters": {},
   "start_time": "2022-10-12T12:59:25.759130",
   "version": "2.3.4"
  }
 },
 "nbformat": 4,
 "nbformat_minor": 5
}
